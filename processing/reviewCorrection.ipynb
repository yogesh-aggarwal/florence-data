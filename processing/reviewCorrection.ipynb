{
 "cells": [
  {
   "cell_type": "code",
   "execution_count": null,
   "metadata": {},
   "outputs": [],
   "source": [
    "import random\n",
    "\n",
    "\n",
    "def random_int():\n",
    "    random_number = random.randint(0, 502)\n",
    "    repeat_probability = random.uniform(0, 1)\n",
    "    if repeat_probability <= 0.01:\n",
    "        return random_number\n",
    "    else:\n",
    "        return random.randint(0, 502)"
   ]
  },
  {
   "cell_type": "code",
   "execution_count": null,
   "metadata": {},
   "outputs": [],
   "source": [
    "list = []\n",
    "\n",
    "with open('generated_reviews.txt', 'r') as file:\n",
    "    reviews=file.read()\n",
    "    indi_reviews=reviews.split(\"\\n\")\n",
    "    list.extend(indi_reviews)\n",
    "int=random_int()\n",
    "print(list[int])"
   ]
  },
  {
   "cell_type": "code",
   "execution_count": null,
   "metadata": {},
   "outputs": [],
   "source": [
    "from pymongo import MongoClient\n",
    "\n",
    "CONNECTION_STRING = \"mongodb://localhost:27017\"\n",
    "client = MongoClient(CONNECTION_STRING)\n",
    "db = client[\"florence\"]\n",
    "collection = db[\"newProducts\"]\n",
    "\n",
    "\n",
    "cursor = collection.find({})\n",
    "\n",
    "for document in cursor:\n",
    "    if \"reviews\" in document:\n",
    "        reviews = document[\"reviews\"]\n",
    "        updated_reviews = []\n",
    "        for r in reviews:\n",
    "            i = random.randint(0, 500)\n",
    "            replacement_text = list[i]\n",
    "            r = {\n",
    "                \"id\": r[\"id\"],\n",
    "                \"userID\": r[\"userID\"],\n",
    "                \"starsGiven\": r[\"starsGiven\"],\n",
    "                \"review\": replacement_text,\n",
    "                \"whenReviewed\": r[\"whenReviewed\"],\n",
    "            }\n",
    "            updated_reviews.append(r)\n",
    "\n",
    "        collection.update_one(\n",
    "            {\"_id\": document[\"_id\"]}, {\"$set\": {\"reviews\": updated_reviews}}\n",
    "        )"
   ]
  },
  {
   "cell_type": "code",
   "execution_count": null,
   "metadata": {},
   "outputs": [],
   "source": []
  }
 ],
 "metadata": {
  "kernelspec": {
   "display_name": "Python 3",
   "language": "python",
   "name": "python3"
  },
  "language_info": {
   "codemirror_mode": {
    "name": "ipython",
    "version": 3
   },
   "file_extension": ".py",
   "mimetype": "text/x-python",
   "name": "python",
   "nbconvert_exporter": "python",
   "pygments_lexer": "ipython3",
   "version": "3.10.10"
  }
 },
 "nbformat": 4,
 "nbformat_minor": 2
}
