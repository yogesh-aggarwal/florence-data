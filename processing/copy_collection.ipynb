{
 "cells": [
  {
   "cell_type": "code",
   "execution_count": 3,
   "metadata": {},
   "outputs": [
    {
     "name": "stdout",
     "output_type": "stream",
     "text": [
      "Copied 485 documents to products_copy\n"
     ]
    }
   ],
   "source": [
    "from pymongo import MongoClient\n",
    "\n",
    "# Connection string\n",
    "CONNECTION_STRING = \"mongodb://localhost:27017\"\n",
    "\n",
    "# Connect to MongoDB\n",
    "client = MongoClient(CONNECTION_STRING)\n",
    "\n",
    "# Source database and collection\n",
    "source_db = client[\"florence\"]\n",
    "source_collection = source_db[\"products\"]\n",
    "\n",
    "# Destination database and collection\n",
    "destination_db = client[\"florence\"]\n",
    "destination_collection_name = \"products_copy\"  # Updated collection name\n",
    "destination_collection = destination_db[destination_collection_name]\n",
    "\n",
    "# Copy data from source to destination\n",
    "pipeline = [\n",
    "    {\"$match\": {}},  # Match all documents in the source collection\n",
    "]\n",
    "\n",
    "cursor = source_collection.aggregate(pipeline)\n",
    "\n",
    "# Insert documents into the destination collection\n",
    "documents_to_insert = list(cursor)\n",
    "if documents_to_insert:\n",
    "    result = destination_collection.insert_many(documents_to_insert)\n",
    "    print(f\"Copied {len(result.inserted_ids)} documents to {destination_collection_name}\")\n",
    "else:\n",
    "    print(\"No documents to copy.\")\n"
   ]
  },
  {
   "cell_type": "code",
   "execution_count": null,
   "metadata": {},
   "outputs": [],
   "source": []
  }
 ],
 "metadata": {
  "kernelspec": {
   "display_name": "Python 3",
   "language": "python",
   "name": "python3"
  },
  "language_info": {
   "codemirror_mode": {
    "name": "ipython",
    "version": 3
   },
   "file_extension": ".py",
   "mimetype": "text/x-python",
   "name": "python",
   "nbconvert_exporter": "python",
   "pygments_lexer": "ipython3",
   "version": "3.10.10"
  }
 },
 "nbformat": 4,
 "nbformat_minor": 2
}
